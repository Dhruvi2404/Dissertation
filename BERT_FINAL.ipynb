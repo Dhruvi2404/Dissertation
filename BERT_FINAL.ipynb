{
  "nbformat": 4,
  "nbformat_minor": 0,
  "metadata": {
    "colab": {
      "provenance": []
    },
    "kernelspec": {
      "name": "python3",
      "display_name": "Python 3"
    },
    "language_info": {
      "name": "python"
    }
  },
  "cells": [
    {
      "cell_type": "code",
      "execution_count": null,
      "metadata": {
        "id": "hhtdBq6VtWl3"
      },
      "outputs": [],
      "source": [
        "from simpletransformers.classification import ClassificationModel\n",
        "from sklearn.metrics import accuracy_score\n",
        "from sklearn.model_selection import train_test_split\n",
        "model = ClassificationModel('bert', 'bert-base-uncased', num_labels=2, args={'reprocess_input_data': True,\n",
        "                                                                             'overwrite_output_dir': True},use_cuda=False)\n",
        "df = pd.read_csv('/content/drive/MyDrive/insamp_headlines.csv')\n",
        "  # train,eva = train_test_split(temp,test_size = 0.2)\n",
        "train_df = pd.DataFrame({\n",
        "    'text': df['clean_headline'].replace(r'\\n', ' ', regex=True),\n",
        "    'label': df['sent_score']})\n",
        "model.train_model(train_df)\n",
        "joblib.dump(model, \"bert.sav\")"
      ]
    },
    {
      "cell_type": "code",
      "source": [
        "results = model.predict(final_df.clean_headline.tolist())"
      ],
      "metadata": {
        "id": "Hhus2ds9t_Vq"
      },
      "execution_count": null,
      "outputs": []
    },
    {
      "cell_type": "code",
      "source": [],
      "metadata": {
        "id": "8QwYD17hq3PI"
      },
      "execution_count": null,
      "outputs": []
    }
  ]
}